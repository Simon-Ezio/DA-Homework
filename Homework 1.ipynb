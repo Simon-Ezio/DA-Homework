{
 "cells": [
  {
   "cell_type": "markdown",
   "metadata": {
    "deletable": true,
    "editable": true
   },
   "source": [
    "# Homework 1"
   ]
  },
  {
   "cell_type": "markdown",
   "metadata": {
    "deletable": true,
    "editable": true
   },
   "source": [
    "This homework has a *theory* and a *practical* part. \n",
    "To answer your theory questions, you can use the cells I have added below the questions. These are already marked as `Markdown` cells, so when you run them or press `Shift + Return`, you should just get formatted text. "
   ]
  },
  {
   "cell_type": "markdown",
   "metadata": {
    "deletable": true,
    "editable": true
   },
   "source": [
    "### Why is Python a useful tool for Data Analytics?"
   ]
  },
  {
   "cell_type": "markdown",
   "metadata": {
    "deletable": true,
    "editable": true
   },
   "source": [
    "Your answer:"
   ]
  },
  {
   "cell_type": "markdown",
   "metadata": {
    "deletable": true,
    "editable": true
   },
   "source": [
    "### Give one example of when you would use Pandas, NumPy and SciKit"
   ]
  },
  {
   "cell_type": "markdown",
   "metadata": {
    "deletable": true,
    "editable": true
   },
   "source": [
    "Pandas:"
   ]
  },
  {
   "cell_type": "markdown",
   "metadata": {
    "deletable": true,
    "editable": true
   },
   "source": [
    "NumPy:"
   ]
  },
  {
   "cell_type": "markdown",
   "metadata": {
    "deletable": true,
    "editable": true
   },
   "source": [
    "SciKit:"
   ]
  },
  {
   "cell_type": "markdown",
   "metadata": {
    "deletable": true,
    "editable": true
   },
   "source": [
    "The next part of your assigment is to write Python code to complete the specified tasks."
   ]
  },
  {
   "cell_type": "markdown",
   "metadata": {
    "deletable": true,
    "editable": true
   },
   "source": [
    "### 1. Create a Dictionary with the terms that you can find in the Glossary in CourseWeb. \n",
    "\n",
    "This dictionary should be named __Glossary__. \n",
    "When you type the Glossary['any term here'] you should obtain the definiton of that term. For example, if I type Glossary['Python'] my output should be 'A high-level, general-purpose programming language'.\n"
   ]
  },
  {
   "cell_type": "code",
   "execution_count": null,
   "metadata": {
    "collapsed": true,
    "deletable": true,
    "editable": true
   },
   "outputs": [],
   "source": [
    "# Add your code here:\n",
    "\n",
    "\n",
    "\n",
    "\n",
    "\n",
    "# Check the answer here:\n",
    "print(Glossary)\n",
    "\n",
    "print(Glossary['Python'])"
   ]
  },
  {
   "cell_type": "markdown",
   "metadata": {
    "deletable": true,
    "editable": true
   },
   "source": [
    "### 2. Creating and Slicing Lists"
   ]
  },
  {
   "cell_type": "code",
   "execution_count": null,
   "metadata": {
    "collapsed": true,
    "deletable": true,
    "editable": true
   },
   "outputs": [],
   "source": [
    "#Create a list named 'Cities' which contains 5 cities in the U.S.\n",
    "\n",
    "Cities = \n",
    "\n",
    "# Add 2 more cities to your list\n",
    "\n",
    "\n",
    "#Print the first three cities in your list\n",
    "\n",
    "\n",
    "# Print the last two cities in the list\n",
    "\n",
    "\n",
    "# Change the city with index 3 in your list to West Chester and print your new list\n",
    "\n"
   ]
  }
 ],
 "metadata": {
  "kernelspec": {
   "display_name": "Python 3",
   "language": "python",
   "name": "python3"
  },
  "language_info": {
   "codemirror_mode": {
    "name": "ipython",
    "version": 3
   },
   "file_extension": ".py",
   "mimetype": "text/x-python",
   "name": "python",
   "nbconvert_exporter": "python",
   "pygments_lexer": "ipython3",
   "version": "3.6.0"
  }
 },
 "nbformat": 4,
 "nbformat_minor": 2
}
