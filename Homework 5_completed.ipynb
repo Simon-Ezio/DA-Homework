{
 "cells": [
  {
   "cell_type": "markdown",
   "metadata": {},
   "source": [
    "# Homework 5"
   ]
  },
  {
   "cell_type": "markdown",
   "metadata": {},
   "source": [
    "## Practical Questions"
   ]
  },
  {
   "cell_type": "markdown",
   "metadata": {},
   "source": [
    "Import all the packages that you will use in your homework:"
   ]
  },
  {
   "cell_type": "code",
   "execution_count": 18,
   "metadata": {},
   "outputs": [],
   "source": [
    "# Import all the required packages. Do not forget to include the classification and regression packages.\n",
    "import numpy as np\n",
    "import pandas as pd\n",
    "import matplotlib.pyplot as plt\n",
    "from sklearn.linear_model import LinearRegression\n",
    "import seaborn as sns\n",
    "from sklearn.naive_bayes import GaussianNB"
   ]
  },
  {
   "cell_type": "markdown",
   "metadata": {},
   "source": [
    "### Practical Question 1:\n",
    "\n",
    "In the first question we will create a simple linear regression model using a simple dataset: Values of actual Height, Weight and its reported values."
   ]
  },
  {
   "cell_type": "markdown",
   "metadata": {},
   "source": [
    "a) Start by importing the data from the 'Height.csv' file"
   ]
  },
  {
   "cell_type": "code",
   "execution_count": 2,
   "metadata": {},
   "outputs": [
    {
     "name": "stdout",
     "output_type": "stream",
     "text": [
      "     Unnamed: 0 sex  weight  height  repwt  repht\n",
      "0             1   M      77     187   77.0  180.0\n",
      "1             2   F      58     156   51.0  159.0\n",
      "2             3   F      53     156   54.0  158.0\n",
      "3             4   M      68     182   70.0  175.0\n",
      "4             5   F      59     152   59.0  155.0\n",
      "5             6   M      76     175   76.0  165.0\n",
      "6             7   M      76     172   77.0  165.0\n",
      "7             8   M      69     191   73.0  180.0\n",
      "8             9   M      71     183   71.0  175.0\n",
      "9            10   M      65     176   64.0  170.0\n",
      "10           11   M      70     180   75.0  174.0\n",
      "11           13   F      51     156   52.0  158.0\n",
      "12           14   F      64     163   64.0  165.0\n",
      "13           15   F      52     158   57.0  160.0\n",
      "14           16   F      65     161   66.0  165.0\n",
      "15           17   M      92     192  101.0  185.0\n",
      "16           18   F      62     163   62.0  165.0\n",
      "17           19   M      76     202   75.0  200.0\n",
      "18           20   F      61     170   61.0  171.0\n",
      "19           21   M     119     185  124.0  178.0\n",
      "20           22   F      61     165   61.0  170.0\n",
      "21           23   M      65     180   66.0  173.0\n",
      "22           24   M      66     178   70.0  170.0\n",
      "23           25   F      54     166   59.0  168.0\n",
      "24           26   F      50     161   50.0  165.0\n",
      "25           27   F      63     164   61.0  168.0\n",
      "26           28   F      58     161   60.0  160.0\n",
      "27           29   F      39     152   41.0  153.0\n",
      "28           30   M     101     188  100.0  180.0\n",
      "29           31   F      71     161   71.0  165.0\n",
      "..          ...  ..     ...     ...    ...    ...\n",
      "169         171   M      76     174   75.0  165.0\n",
      "170         172   F      54     158    NaN    NaN\n",
      "171         173   M      61     175   61.0  170.0\n",
      "172         174   M      82     181    NaN    NaN\n",
      "173         175   M      62     173   64.0  168.0\n",
      "174         176   M      71     183   68.0  178.0\n",
      "175         177   F      60     169    NaN    NaN\n",
      "176         178   M      66     175   67.0  165.0\n",
      "177         179   M      81     183   82.0  175.0\n",
      "178         180   M      68     179   68.0  173.0\n",
      "179         181   M      80     181   78.0  175.0\n",
      "180         182   F      43     149    NaN    NaN\n",
      "181         183   M      82     186    NaN    NaN\n",
      "182         184   F      63     160   59.0  160.0\n",
      "183         185   M      70     178   70.0  173.0\n",
      "184         186   F      56     157   56.0  160.0\n",
      "185         187   F      60     167   55.0  168.0\n",
      "186         188   F      58     164   54.0  166.0\n",
      "187         189   M      76     188   75.0  180.0\n",
      "188         190   F      50     153   49.0  155.0\n",
      "189         191   M      88     190   93.0  188.0\n",
      "190         192   M      89     178   86.0  173.0\n",
      "191         193   F      59     159   59.0  165.0\n",
      "192         194   F      51     151   51.0  158.0\n",
      "193         195   F      62     159   61.0  161.0\n",
      "194         196   M      74     180   71.0  175.0\n",
      "195         197   M      83     185   80.0  180.0\n",
      "196         198   M      81     180    NaN    NaN\n",
      "197         199   M      90     186   91.0  178.0\n",
      "198         200   M      79     182   81.0  178.0\n",
      "\n",
      "[199 rows x 6 columns]\n"
     ]
    }
   ],
   "source": [
    "#Import the data in the 'data' variable below\n",
    "data = pd.read_csv('Height.csv')\n",
    "\n",
    "#Check if the data is correctly imported\n",
    "print(data)"
   ]
  },
  {
   "cell_type": "markdown",
   "metadata": {},
   "source": [
    "b) Create an scatter plot of 'weigh' vs. 'height'. Do not forget to format the graph: include the axes labels and a title for the graph."
   ]
  },
  {
   "cell_type": "code",
   "execution_count": 3,
   "metadata": {},
   "outputs": [
    {
     "data": {
      "text/plain": [
       "Text(0,0.5,'height')"
      ]
     },
     "execution_count": 3,
     "metadata": {},
     "output_type": "execute_result"
    },
    {
     "data": {
      "image/png": "[encoded data removed]",
      "text/plain": [
       "<Figure size 432x288 with 1 Axes>"
      ]
     },
     "metadata": {},
     "output_type": "display_data"
    }
   ],
   "source": [
    "#Create the plot here. Do not forget to include the required code lines to visualize the graph directly in the notebook.\n",
    "%matplotlib inline\n",
    "plt.scatter(data['weight'],data['height'])\n",
    "plt.title('weight vs. height')\n",
    "plt.xlabel('weight')\n",
    "plt.ylabel('height')"
   ]
  },
  {
   "cell_type": "markdown",
   "metadata": {},
   "source": [
    "Is there correlation between these variables? Don't forget to explain your answer."
   ]
  },
  {
   "cell_type": "markdown",
   "metadata": {},
   "source": [
    "**Your answer:** Yes, there is. Because the points in the scatter graph is similar to a linear relation."
   ]
  },
  {
   "cell_type": "markdown",
   "metadata": {},
   "source": [
    "c) Create a Linear Regression Model between the 'height' and 'weight' dimensions. "
   ]
  },
  {
   "cell_type": "code",
   "execution_count": 6,
   "metadata": {},
   "outputs": [
    {
     "data": {
      "text/plain": [
       "LinearRegression(copy_X=True, fit_intercept=True, n_jobs=1, normalize=False)"
      ]
     },
     "execution_count": 6,
     "metadata": {},
     "output_type": "execute_result"
    }
   ],
   "source": [
    "# Construct your linear regression model named 'linear_model':\n",
    "linear_model = LinearRegression(fit_intercept = True)\n",
    "\n",
    "#The following lines will fit the data to our model. Check your answer!\n",
    "weight = data['weight']\n",
    "height = data['height']\n",
    "linear_model.fit(height[:,np.newaxis],weight)"
   ]
  },
  {
   "cell_type": "markdown",
   "metadata": {},
   "source": [
    "d) Check if your model is working: \n",
    "\n",
    "-First generate 100 random points between 150 and 190.\n",
    "\n",
    "-Predict this generated values using our previously created model **linear_model**.\n",
    "\n",
    "-Plot the data and this new generated line"
   ]
  },
  {
   "cell_type": "code",
   "execution_count": 8,
   "metadata": {},
   "outputs": [
    {
     "data": {
      "text/plain": [
       "[<matplotlib.lines.Line2D at 0x1efffed67f0>]"
      ]
     },
     "execution_count": 8,
     "metadata": {},
     "output_type": "execute_result"
    },
    {
     "data": {
      "image/png": "[encoded data removed]",
      "text/plain": [
       "<Figure size 432x288 with 1 Axes>"
      ]
     },
     "metadata": {},
     "output_type": "display_data"
    }
   ],
   "source": [
    "#Generate the 100 random numbers between 150 and 190 and save them in the 'xfit' variable\n",
    "xfit = np.linspace(150, 190, 100)\n",
    "\n",
    "#Predict the values from our random numbers and saved them in the 'yfit' variable.\n",
    "yfit = linear_model.predict(xfit[:, np.newaxis])\n",
    "\n",
    "#Check your answer\n",
    "plt.scatter(data['height'],data['weight'])\n",
    "plt.plot(xfit, yfit, color='red')\n",
    "#You should get some points and a line"
   ]
  },
  {
   "cell_type": "markdown",
   "metadata": {},
   "source": [
    "Is the model a good fit? Why?"
   ]
  },
  {
   "cell_type": "markdown",
   "metadata": {},
   "source": [
    "**Your answer:** Yes. Because the points can basically distribute on the both side of the line evenly."
   ]
  },
  {
   "cell_type": "markdown",
   "metadata": {},
   "source": [
    "e) Find the interception of the line and the coefficient (slope) of the independent variable"
   ]
  },
  {
   "cell_type": "code",
   "execution_count": 9,
   "metadata": {},
   "outputs": [
    {
     "name": "stdout",
     "output_type": "stream",
     "text": [
      "Slope:  0.8144080226185751  y-intercept:  -73.1610664383499\n"
     ]
    }
   ],
   "source": [
    "#The slope (coefficient):\n",
    "slope = linear_model.coef_[0]\n",
    "\n",
    "#The intercept with the y-axis:\n",
    "interception = linear_model.intercept_\n",
    "\n",
    "#Check your answer:\n",
    "print('Slope: ',slope,' y-intercept: ',interception)"
   ]
  },
  {
   "cell_type": "markdown",
   "metadata": {},
   "source": [
    "What is the resulting equation of our model? What does it mean?"
   ]
  },
  {
   "cell_type": "markdown",
   "metadata": {},
   "source": [
    "**Your answer:** It's y=-73.1610664383499 + 0.8144080226185751x. This means that for every increment in the independent variable x, the dependent variable don't have much change."
   ]
  },
  {
   "cell_type": "markdown",
   "metadata": {},
   "source": [
    "### Practical Question 2\n",
    "\n",
    "In the second question we will create a classification model. We will use the same dataset we used for Practical Question 1.\n"
   ]
  },
  {
   "cell_type": "markdown",
   "metadata": {},
   "source": [
    "a) Let's start by creating a density plot of the height for men and women in our dataset. \n",
    "To do this, you can use the **seaborn** package with the ***kdeplot*** option. For info on all the options you have for using it, you can refer to: https://seaborn.pydata.org/generated/seaborn.kdeplot.html\n",
    "\n",
    "Your graph should look something like this: \n",
    "<img src = \"kdeplot.png\">\n",
    "\n",
    "**Hint:** If you want to add two plots in the same cell, you can obtain overlapped curves in the same figure just printing one plot first and then the following."
   ]
  },
  {
   "cell_type": "code",
   "execution_count": 16,
   "metadata": {},
   "outputs": [
    {
     "data": {
      "text/plain": [
       "<matplotlib.axes._subplots.AxesSubplot at 0x1ef812f8438>"
      ]
     },
     "execution_count": 16,
     "metadata": {},
     "output_type": "execute_result"
    },
    {
     "data": {
      "image/png": "[encoded data removed]",
      "text/plain": [
       "<Figure size 432x288 with 1 Axes>"
      ]
     },
     "metadata": {},
     "output_type": "display_data"
    }
   ],
   "source": [
    "# Create your density plot here\n",
    "data_M = data[data['sex'] == 'M']\n",
    "X1 = data_M['height']\n",
    "data_F = data[data['sex'] == 'F']\n",
    "X2 = data_F['height']\n",
    "\n",
    "sns.kdeplot(X2)\n",
    "sns.kdeplot(X1)"
   ]
  },
  {
   "cell_type": "markdown",
   "metadata": {},
   "source": [
    "Based on what you can see in the figure, do you think you can construct a classification model that would tell us whether a given value of 'height' corresponds to a man or a woman? Why?"
   ]
  },
  {
   "cell_type": "markdown",
   "metadata": {},
   "source": [
    "**Your answer:** Yes. Because they are significant two different types of data."
   ]
  },
  {
   "cell_type": "markdown",
   "metadata": {},
   "source": [
    "By looking at the density plot, do you anticipate there will be errors in the prediction? Why?"
   ]
  },
  {
   "cell_type": "markdown",
   "metadata": {},
   "source": [
    "**Your answer:** Yes, there will be some errors. Because there is a overlapping area in the plot."
   ]
  },
  {
   "cell_type": "markdown",
   "metadata": {},
   "source": [
    "b) Create a Naive Bayes Gaussian classification model. The model will take height as the input and the categorical (class or label) value as the other inputr. The goal of the model is to predict the sex of a person based on his/her height."
   ]
  },
  {
   "cell_type": "code",
   "execution_count": 19,
   "metadata": {},
   "outputs": [
    {
     "data": {
      "text/plain": [
       "GaussianNB(priors=None)"
      ]
     },
     "execution_count": 19,
     "metadata": {},
     "output_type": "execute_result"
    }
   ],
   "source": [
    "# The name of your model should be GNB. You need to find the python function to create the \n",
    "# Gaussian Naive Bayesian model.\n",
    "GNB = GaussianNB()\n",
    "\n",
    "# The next step is to fit our data to the model using the .fit() method\n",
    "height = data['height'] # obtain the height values from our 'data' dataframe\n",
    "GNB.fit(height[:,np.newaxis], data['sex'])  # Fitting the model with the independent variable 'height' and the \n",
    "                                            # categorical (labeled) data 'sex'"
   ]
  },
  {
   "cell_type": "markdown",
   "metadata": {},
   "source": [
    "c) Test the model with some random data to obtain our predictions (probability). I have already created the Xtest variable, which contains some (10) random values of height between 160 and 180 cm. Using these data, predict the probabilities using the GNB model created in the previous cell."
   ]
  },
  {
   "cell_type": "code",
   "execution_count": 20,
   "metadata": {},
   "outputs": [
    {
     "data": {
      "text/plain": [
       "array([[170.97627008,   0.        ],\n",
       "       [172.05526752,   0.        ],\n",
       "       [168.47309599,   0.        ],\n",
       "       [168.75174423,   0.        ],\n",
       "       [179.27325521,   0.        ],\n",
       "       [175.83450076,   0.        ],\n",
       "       [171.36089122,   0.        ],\n",
       "       [161.42072116,   0.        ],\n",
       "       [160.40436795,   0.        ],\n",
       "       [175.56313502,   0.        ]])"
      ]
     },
     "execution_count": 20,
     "metadata": {},
     "output_type": "execute_result"
    }
   ],
   "source": [
    "# Generating the random values of height\n",
    "rng = np.random.RandomState(0)\n",
    "Xtest = [160, 0] + [20, 0] * rng.rand(10, 2)\n",
    "\n",
    "Xtest"
   ]
  },
  {
   "cell_type": "code",
   "execution_count": 24,
   "metadata": {},
   "outputs": [
    {
     "data": {
      "text/plain": [
       "array([[1.   , 0.   ],\n",
       "       [1.   , 0.   ],\n",
       "       [1.   , 0.   ],\n",
       "       [1.   , 0.   ],\n",
       "       [0.989, 0.011],\n",
       "       [0.999, 0.001],\n",
       "       [1.   , 0.   ],\n",
       "       [1.   , 0.   ],\n",
       "       [1.   , 0.   ],\n",
       "       [0.999, 0.001]])"
      ]
     },
     "execution_count": 24,
     "metadata": {},
     "output_type": "execute_result"
    }
   ],
   "source": [
    "# Predict the probabilities that the values generated above correspond to men or women, using the GNB model and save them in the 'yprob' values.\n",
    "\n",
    "yprob = GNB.predict_proba(Xtest)\n",
    "\n",
    "#Visualizing the resulting probabilities, rounding them to 3 decimal points. Check your answer!\n",
    "yprob.round(3) "
   ]
  },
  {
   "cell_type": "code",
   "execution_count": 25,
   "metadata": {},
   "outputs": [
    {
     "data": {
      "text/plain": [
       "array(['F', 'M'], dtype='<U1')"
      ]
     },
     "execution_count": 25,
     "metadata": {},
     "output_type": "execute_result"
    }
   ],
   "source": [
    "# The above probabilites correspond to the following classes\n",
    "GNB.classes_"
   ]
  },
  {
   "cell_type": "markdown",
   "metadata": {},
   "source": [
    "What are these probabilities telling you? Why?"
   ]
  },
  {
   "cell_type": "markdown",
   "metadata": {},
   "source": [
    "**Your answer:** The people whose height is between 160 and 180 cm will be classfied as female. Because the probabilities they will be female are over 0.98"
   ]
  },
  {
   "cell_type": "markdown",
   "metadata": {},
   "source": [
    "c) Test the model with some random data to obtain our predictions (probability). I have already created the Xtest variable, which contains some (10) random values of height between 200 and 210 cm. Using these data, predict the probabilities using the GNB model created in the previous cell."
   ]
  },
  {
   "cell_type": "code",
   "execution_count": 26,
   "metadata": {},
   "outputs": [
    {
     "data": {
      "text/plain": [
       "array([[205.48813504,   0.        ],\n",
       "       [206.02763376,   0.        ],\n",
       "       [204.23654799,   0.        ],\n",
       "       [204.37587211,   0.        ],\n",
       "       [209.63662761,   0.        ],\n",
       "       [207.91725038,   0.        ],\n",
       "       [205.68044561,   0.        ],\n",
       "       [200.71036058,   0.        ],\n",
       "       [200.20218397,   0.        ],\n",
       "       [207.78156751,   0.        ]])"
      ]
     },
     "execution_count": 26,
     "metadata": {},
     "output_type": "execute_result"
    }
   ],
   "source": [
    "# Generating the random values of height between 200 and 210\n",
    "rng = np.random.RandomState(0)\n",
    "Xtest = [200, 0] + [10, 0] * rng.rand(10, 2)\n",
    "\n",
    "Xtest"
   ]
  },
  {
   "cell_type": "code",
   "execution_count": 27,
   "metadata": {},
   "outputs": [
    {
     "data": {
      "text/plain": [
       "array([[0., 1.],\n",
       "       [0., 1.],\n",
       "       [0., 1.],\n",
       "       [0., 1.],\n",
       "       [0., 1.],\n",
       "       [0., 1.],\n",
       "       [0., 1.],\n",
       "       [0., 1.],\n",
       "       [0., 1.],\n",
       "       [0., 1.]])"
      ]
     },
     "execution_count": 27,
     "metadata": {},
     "output_type": "execute_result"
    }
   ],
   "source": [
    "# Predict the probabilities that the values generated above correspond to men or women, using the GNB model\n",
    "\n",
    "yprob = GNB.predict_proba(Xtest)\n",
    "\n",
    "#Visualizing the resulting probabilities, rounding them to 3 decimal points\n",
    "yprob.round(3) "
   ]
  },
  {
   "cell_type": "code",
   "execution_count": 28,
   "metadata": {},
   "outputs": [
    {
     "data": {
      "text/plain": [
       "array(['F', 'M'], dtype='<U1')"
      ]
     },
     "execution_count": 28,
     "metadata": {},
     "output_type": "execute_result"
    }
   ],
   "source": [
    "# The above probabilites correspond to the following classes\n",
    "GNB.classes_"
   ]
  },
  {
   "cell_type": "markdown",
   "metadata": {},
   "source": [
    "What are these probabilities telling you? Why?"
   ]
  },
  {
   "cell_type": "markdown",
   "metadata": {},
   "source": [
    "**Your Answer:** The people whose height is between 200 and 210 cm will be classfied as male. Because the probabilities they will be male are 1.00"
   ]
  },
  {
   "cell_type": "code",
   "execution_count": null,
   "metadata": {},
   "outputs": [],
   "source": []
  }
 ],
 "metadata": {
  "kernelspec": {
   "display_name": "Python 3",
   "language": "python",
   "name": "python3"
  },
  "language_info": {
   "codemirror_mode": {
    "name": "ipython",
    "version": 3
   },
   "file_extension": ".py",
   "mimetype": "text/x-python",
   "name": "python",
   "nbconvert_exporter": "python",
   "pygments_lexer": "ipython3",
   "version": "3.6.5"
  }
 },
 "nbformat": 4,
 "nbformat_minor": 2
}
