{
 "cells": [
  {
   "cell_type": "markdown",
   "metadata": {},
   "source": [
    "# Homework 1"
   ]
  },
  {
   "cell_type": "markdown",
   "metadata": {},
   "source": [
    "This homework has a *theory* and a *practical* part. \n",
    "To answer your theory questions, you can use the cells I have added below the questions. These are already marked as `Markdown` cells, so when you run them or press `Shift + Return`, you should just get formatted text. "
   ]
  },
  {
   "cell_type": "markdown",
   "metadata": {},
   "source": [
    "### Why is Python a useful tool for Data Analytics?"
   ]
  },
  {
   "cell_type": "markdown",
   "metadata": {},
   "source": [
    "Your answer: Because firstly, Python is not like machine language (such as C, C++, or Java), it's easy to read and comprehend, and more like pseudocode, the programmer don't need to spend too much time on the algorithm and logic, so that they can focus on processing data much better; secondly, Python has many useful third-part packages to help scientists and students handle data, it's very convenient compared with other machine language."
   ]
  },
  {
   "cell_type": "markdown",
   "metadata": {},
   "source": [
    "### Give one example of when you would use Pandas, NumPy and SciKit"
   ]
  },
  {
   "cell_type": "markdown",
   "metadata": {},
   "source": [
    "Pandas: When I get some data from excel or datebase, and I need to handle this data in that format, which has many different type and labeled data."
   ]
  },
  {
   "cell_type": "markdown",
   "metadata": {},
   "source": [
    "NumPy: When I need to do linear algebraic calculation, and the type of the data is same and the dataset is array-based."
   ]
  },
  {
   "cell_type": "markdown",
   "metadata": {},
   "source": [
    "SciKit: When I need some algorithms to process the data or to solve machine learning problem, I don't need to program my own algorithm code, but just use the algorithm in the SciKit package expediently."
   ]
  },
  {
   "cell_type": "markdown",
   "metadata": {},
   "source": [
    "The next part of your assigment is to write Python code to complete the specified tasks."
   ]
  },
  {
   "cell_type": "markdown",
   "metadata": {},
   "source": [
    "### 1. Create a Dictionary with the terms that you can find in the Glossary in CourseWeb. \n",
    "\n",
    "This dictionary should be named __Glossary__. \n",
    "When you type the Glossary['any term here'] you should obtain the definiton of that term. For example, if I type Glossary['Python'] my output should be 'A high-level, general-purpose programming language'.\n"
   ]
  },
  {
   "cell_type": "code",
   "execution_count": 15,
   "metadata": {},
   "outputs": [
    {
     "name": "stdout",
     "output_type": "stream",
     "text": [
      "{'cat': 'a furry animal that has a long tial and sharp claws.', 'dog': 'a very common four-legged animal that is often kept by people as a pet or to guard or hunt.', 'Python': 'A high-level, general-purpose programming language.', 'Java': 'a computer programming language.It is used especially in creating websites.'}\n",
      "A high-level, general-purpose programming language.\n"
     ]
    }
   ],
   "source": [
    "# Add your code here:\n",
    "Glossary = {'cat' : 'a furry animal that has a long tial and sharp claws.',\n",
    "           'dog' : 'a very common four-legged animal that is often kept by people as a pet or to guard or hunt.',\n",
    "           'Python' : 'A high-level, general-purpose programming language.',\n",
    "           'Java' : 'a computer programming language.It is used especially in creating websites.'}\n",
    "\n",
    "# Check the answer here:\n",
    "print(Glossary)\n",
    "\n",
    "print(Glossary['Python'])"
   ]
  },
  {
   "cell_type": "markdown",
   "metadata": {},
   "source": [
    "### 2. Creating and Slicing Lists"
   ]
  },
  {
   "cell_type": "code",
   "execution_count": 14,
   "metadata": {},
   "outputs": [
    {
     "name": "stdout",
     "output_type": "stream",
     "text": [
      "['Los Angeles', 'New York', 'Boston']\n",
      "['Honolulu', 'Washington']\n",
      "['Los Angeles', 'New York', 'Boston', 'West Chester', 'Seattle', 'Honolulu', 'Washington']\n"
     ]
    }
   ],
   "source": [
    "#Create a list named 'Cities' which contains 5 cities in the U.S.\n",
    "\n",
    "Cities = [\"Los Angeles\", \"New York\", \"Boston\", \"Pittsburgh\", \"Seattle\"]\n",
    "\n",
    "# Add 2 more cities to your list\n",
    "\n",
    "Cities.extend([\"Honolulu\", \"Washington\"])\n",
    "\n",
    "#Print the first three cities in your list\n",
    "\n",
    "print(Cities[0:3])\n",
    "\n",
    "# Print the last two cities in the list\n",
    "\n",
    "print(Cities[-2:])\n",
    "\n",
    "# Change the city with index 3 in your list to West Chester and print your new list\n",
    "\n",
    "Cities[3] = \"West Chester\"\n",
    "print(Cities)"
   ]
  },
  {
   "cell_type": "code",
   "execution_count": null,
   "metadata": {},
   "outputs": [],
   "source": []
  }
 ],
 "metadata": {
  "kernelspec": {
   "display_name": "Python 3",
   "language": "python",
   "name": "python3"
  },
  "language_info": {
   "codemirror_mode": {
    "name": "ipython",
    "version": 3
   },
   "file_extension": ".py",
   "mimetype": "text/x-python",
   "name": "python",
   "nbconvert_exporter": "python",
   "pygments_lexer": "ipython3",
   "version": "3.6.5"
  }
 },
 "nbformat": 4,
 "nbformat_minor": 2
}
